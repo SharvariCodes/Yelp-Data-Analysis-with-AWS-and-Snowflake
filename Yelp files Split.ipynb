{
 "cells": [
  {
   "cell_type": "code",
   "execution_count": 1,
   "id": "cbbf43cc",
   "metadata": {},
   "outputs": [],
   "source": [
    "import json"
   ]
  },
  {
   "cell_type": "code",
   "execution_count": 2,
   "id": "bdd5ea26",
   "metadata": {},
   "outputs": [],
   "source": [
    "input_file = \"yelp_academic_dataset_review.json\"  #5gb input file\n",
    "output_prefix = \"split_file_\"  #prefix for output files\n",
    "num_files = 10  #number of files to split into"
   ]
  },
  {
   "cell_type": "code",
   "execution_count": 3,
   "id": "e2b2d821",
   "metadata": {},
   "outputs": [
    {
     "name": "stdout",
     "output_type": "stream",
     "text": [
      "Total lines: 6990280, Lines per file: 699028\n",
      "✅ JSON file successfully split into smaller parts!\n"
     ]
    }
   ],
   "source": [
    "# Count total lines (objects) in the file\n",
    "with open(input_file, \"r\", encoding = \"utf8\") as f:\n",
    "    total_lines = sum(1 for _ in f)\n",
    "    \n",
    "lines_per_file = total_lines // num_files  # lines per split file\n",
    "\n",
    "print(f\"Total lines: {total_lines}, Lines per file: {lines_per_file}\")\n",
    "\n",
    "# Now split into multiple smaller files\n",
    "with open(input_file, \"r\", encoding = \"utf8\") as f:\n",
    "    for i in range(num_files):\n",
    "        output_filename = f\"{output_prefix}{i+1}.json\"\n",
    "        \n",
    "        with open(output_filename, \"w\", encoding = \"utf8\") as out_file:\n",
    "            for j in range(lines_per_file):\n",
    "                line = f.readline()\n",
    "                if not line:\n",
    "                    break # stop if file ends early\n",
    "                out_file.write(line)\n",
    "                \n",
    "print(\"✅ JSON file successfully split into smaller parts!\")"
   ]
  },
  {
   "cell_type": "code",
   "execution_count": null,
   "id": "1f1341ee",
   "metadata": {},
   "outputs": [],
   "source": []
  }
 ],
 "metadata": {
  "kernelspec": {
   "display_name": "Python 3 (ipykernel)",
   "language": "python",
   "name": "python3"
  },
  "language_info": {
   "codemirror_mode": {
    "name": "ipython",
    "version": 3
   },
   "file_extension": ".py",
   "mimetype": "text/x-python",
   "name": "python",
   "nbconvert_exporter": "python",
   "pygments_lexer": "ipython3",
   "version": "3.9.12"
  }
 },
 "nbformat": 4,
 "nbformat_minor": 5
}
